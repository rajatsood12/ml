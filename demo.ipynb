{
  "nbformat": 4,
  "nbformat_minor": 0,
  "metadata": {
    "colab": {
      "provenance": [],
      "authorship_tag": "ABX9TyOOK+QSsJsXCau67H6/7cvE",
      "include_colab_link": true
    },
    "kernelspec": {
      "name": "python3",
      "display_name": "Python 3"
    },
    "language_info": {
      "name": "python"
    }
  },
  "cells": [
    {
      "cell_type": "markdown",
      "metadata": {
        "id": "view-in-github",
        "colab_type": "text"
      },
      "source": [
        "<a href=\"https://colab.research.google.com/github/rajatsood12/ml/blob/master/demo.ipynb\" target=\"_parent\"><img src=\"https://colab.research.google.com/assets/colab-badge.svg\" alt=\"Open In Colab\"/></a>"
      ]
    },
    {
      "cell_type": "code",
      "execution_count": 1,
      "metadata": {
        "colab": {
          "base_uri": "https://localhost:8080/"
        },
        "id": "AphSBm6mfitu",
        "outputId": "fc84b2fa-5d16-4e64-fd01-444d3e9018ad"
      },
      "outputs": [
        {
          "output_type": "stream",
          "name": "stdout",
          "text": [
            "Input shape: torch.Size([5, 10])\n",
            "Logits shape: torch.Size([5, 3])\n",
            "tensor([[ 0.1708,  0.0484, -0.0663],\n",
            "        [-0.1271,  0.1017, -0.0596],\n",
            "        [-0.1288,  0.0749,  0.0473],\n",
            "        [-0.0864,  0.0767, -0.0107],\n",
            "        [-0.1695,  0.0175,  0.0313]], grad_fn=<AddmmBackward0>)\n"
          ]
        }
      ],
      "source": [
        "import torch\n",
        "import torch.nn as nn\n",
        "\n",
        "class NeuralNetClassifier(nn.Module):\n",
        "    def __init__(self, d, H, C):\n",
        "        \"\"\"\n",
        "        :param d: int, input dimensionality\n",
        "        :param H: list of ints, channel sizes for hidden layers\n",
        "        :param C: int, number of output classes\n",
        "        \"\"\"\n",
        "        super(NeuralNetClassifier, self).__init__()\n",
        "\n",
        "        # Define the layers\n",
        "        layers = []\n",
        "\n",
        "        # Input layer to first hidden layer\n",
        "        layers.append(nn.Linear(d, H[0]))\n",
        "        layers.append(nn.Tanh())\n",
        "\n",
        "        # Hidden layers\n",
        "        for i in range(len(H) - 1):\n",
        "            layers.append(nn.Linear(H[i], H[i+1]))\n",
        "            layers.append(nn.Tanh())\n",
        "\n",
        "        # Output layer (logits)\n",
        "        layers.append(nn.Linear(H[-1], C))\n",
        "\n",
        "        # Sequential model\n",
        "        self.model = nn.Sequential(*layers)\n",
        "\n",
        "    def forward(self, x):\n",
        "        \"\"\"\n",
        "        :param x: torch.Tensor, raw input vectors of shape (batch_size, d)\n",
        "        :return: torch.Tensor, logits of shape (batch_size, C)\n",
        "        \"\"\"\n",
        "        return self.model(x)\n",
        "\n",
        "# Testing the network\n",
        "def test_network():\n",
        "    # Input dimensions\n",
        "    d = 10  # Dimensionality of inputs\n",
        "    H = [64, 32, 16]  # Hidden layer sizes\n",
        "    C = 3  # Number of output classes\n",
        "\n",
        "    # Create a batch of input data (batch_size x d)\n",
        "    batch_size = 5\n",
        "    x = torch.randn(batch_size, d)\n",
        "\n",
        "    # Initialize the model\n",
        "    model = NeuralNetClassifier(d, H, C)\n",
        "\n",
        "    # Forward pass (logits)\n",
        "    logits = model(x)\n",
        "\n",
        "    print(f\"Input shape: {x.shape}\")\n",
        "    print(f\"Logits shape: {logits.shape}\")\n",
        "    print(logits)\n",
        "\n",
        "# Run the test\n",
        "test_network()\n"
      ]
    },
    {
      "cell_type": "code",
      "source": [
        "import tensorflow as tf\n",
        "from tensorflow.keras import layers\n",
        "\n",
        "class NeuralNetClassifier(tf.keras.Model):\n",
        "    def __init__(self, d, H, C):\n",
        "        \"\"\"\n",
        "        :param d: int, input dimensionality\n",
        "        :param H: list of ints, channel sizes for hidden layers\n",
        "        :param C: int, number of output classes\n",
        "        \"\"\"\n",
        "        super(NeuralNetClassifier, self).__init__()\n",
        "\n",
        "        # Define the layers\n",
        "        self.hidden_layers = []\n",
        "\n",
        "        # Input layer to first hidden layer\n",
        "        self.hidden_layers.append(layers.Dense(H[0], activation='tanh', input_shape=(d,)))\n",
        "\n",
        "        # Hidden layers\n",
        "        for i in range(1, len(H)):\n",
        "            self.hidden_layers.append(layers.Dense(H[i], activation='tanh'))\n",
        "\n",
        "        # Output layer (logits)\n",
        "        self.output_layer = layers.Dense(C)\n",
        "\n",
        "    def call(self, x):\n",
        "        \"\"\"\n",
        "        :param x: tf.Tensor, raw input vectors of shape (batch_size, d)\n",
        "        :return: tf.Tensor, logits of shape (batch_size, C)\n",
        "        \"\"\"\n",
        "        for layer in self.hidden_layers:\n",
        "            x = layer(x)\n",
        "        return self.output_layer(x)\n",
        "\n",
        "# Testing the network\n",
        "def test_network():\n",
        "    # Input dimensions\n",
        "    d = 10  # Dimensionality of inputs\n",
        "    H = [64, 32, 16]  # Hidden layer sizes\n",
        "    C = 3  # Number of output classes\n",
        "\n",
        "    # Create a batch of input data (batch_size x d)\n",
        "    batch_size = 5\n",
        "    x = tf.random.normal((batch_size, d))\n",
        "\n",
        "    # Initialize the model\n",
        "    model = NeuralNetClassifier(d, H, C)\n",
        "\n",
        "    # Forward pass (logits)\n",
        "    logits = model(x)\n",
        "\n",
        "    print(f\"Input shape: {x.shape}\")\n",
        "    print(f\"Logits shape: {logits.shape}\")\n",
        "    print(logits)\n",
        "\n",
        "# Run the test\n",
        "test_network()\n"
      ],
      "metadata": {
        "colab": {
          "base_uri": "https://localhost:8080/"
        },
        "id": "Y5N-R25VgDfG",
        "outputId": "932c54f6-76d6-426d-8359-c10af146b278"
      },
      "execution_count": 2,
      "outputs": [
        {
          "output_type": "stream",
          "name": "stderr",
          "text": [
            "/usr/local/lib/python3.10/dist-packages/keras/src/layers/core/dense.py:87: UserWarning: Do not pass an `input_shape`/`input_dim` argument to a layer. When using Sequential models, prefer using an `Input(shape)` object as the first layer in the model instead.\n",
            "  super().__init__(activity_regularizer=activity_regularizer, **kwargs)\n"
          ]
        },
        {
          "output_type": "stream",
          "name": "stdout",
          "text": [
            "Input shape: (5, 10)\n",
            "Logits shape: (5, 3)\n",
            "tf.Tensor(\n",
            "[[ 0.03201216  0.20704107  1.0945665 ]\n",
            " [ 0.22795568 -0.6424812   0.51847386]\n",
            " [-0.81620824 -0.5787269  -0.11312322]\n",
            " [ 0.7435062   0.11508855 -0.10669801]\n",
            " [-0.06314682 -0.0702118  -0.03763579]], shape=(5, 3), dtype=float32)\n"
          ]
        }
      ]
    }
  ]
}